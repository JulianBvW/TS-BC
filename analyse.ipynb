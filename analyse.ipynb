{
 "cells": [
  {
   "cell_type": "code",
   "execution_count": 1,
   "metadata": {},
   "outputs": [],
   "source": [
    "import cv2\n",
    "import numpy as np\n",
    "import skvideo.io\n",
    "\n",
    "from VPTDataset import VPTDataset"
   ]
  },
  {
   "cell_type": "code",
   "execution_count": 2,
   "metadata": {},
   "outputs": [],
   "source": [
    "agent_recording = skvideo.io.vread('agent_recording.mp4')\n",
    "agent_duration = agent_recording.shape[0]\n",
    "\n",
    "dataset = VPTDataset()"
   ]
  },
  {
   "cell_type": "code",
   "execution_count": 3,
   "metadata": {},
   "outputs": [],
   "source": [
    "with open('agent_log.txt', 'r') as f:\n",
    "    log = f.readlines()\n",
    "    agent_frames = list(map(lambda x: int(x.split(' ')[1]), log))\n",
    "    vid_ids      = list(map(lambda x: str(x.split(' ')[6]), log))\n",
    "    vid_frames   = list(map(lambda x: int(x.split(' ')[9]), log))\n",
    "durations = [(agent_frames+[agent_duration])[i+1] - agent_frames[i] for i in range(len(agent_frames))]"
   ]
  },
  {
   "cell_type": "code",
   "execution_count": 4,
   "metadata": {},
   "outputs": [],
   "source": [
    "dataset_video = np.empty((agent_duration, 360, 640, 3), dtype=np.uint8)\n",
    "\n",
    "for agent_frame, vid_id, vid_frame, duration in zip(agent_frames, vid_ids, vid_frames, durations):\n",
    "    vid, _, _ = dataset.get_from_vid_id(vid_id)\n",
    "    dataset_video[agent_frame:agent_frame+duration] = vid[vid_frame:vid_frame+duration]"
   ]
  },
  {
   "cell_type": "code",
   "execution_count": 5,
   "metadata": {},
   "outputs": [],
   "source": [
    "comb_video = np.concatenate([agent_recording, dataset_video], axis=1)\n",
    "\n",
    "video_writer = cv2.VideoWriter('analyse_video.mp4', cv2.VideoWriter_fourcc(*'mp4v'), 20, (640, 2*360))\n",
    "for frame in comb_video:\n",
    "    video_writer.write(cv2.cvtColor(frame, cv2.COLOR_RGB2BGR))\n",
    "video_writer.release()"
   ]
  },
  {
   "cell_type": "code",
   "execution_count": null,
   "metadata": {},
   "outputs": [],
   "source": []
  }
 ],
 "metadata": {
  "kernelspec": {
   "display_name": "ts-bc",
   "language": "python",
   "name": "python3"
  },
  "language_info": {
   "codemirror_mode": {
    "name": "ipython",
    "version": 3
   },
   "file_extension": ".py",
   "mimetype": "text/x-python",
   "name": "python",
   "nbconvert_exporter": "python",
   "pygments_lexer": "ipython3",
   "version": "3.9.18"
  }
 },
 "nbformat": 4,
 "nbformat_minor": 2
}
